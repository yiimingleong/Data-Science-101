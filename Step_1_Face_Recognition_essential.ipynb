{
  "nbformat": 4,
  "nbformat_minor": 0,
  "metadata": {
    "colab": {
      "provenance": []
    },
    "kernelspec": {
      "name": "python3",
      "display_name": "Python 3"
    },
    "language_info": {
      "name": "python"
    }
  },
  "cells": [
    {
      "cell_type": "code",
      "execution_count": null,
      "metadata": {
        "colab": {
          "base_uri": "https://localhost:8080/"
        },
        "id": "fonF6qthztrx",
        "outputId": "57c02ed3-ebf9-4746-a063-f97a1bcc954f"
      },
      "outputs": [
        {
          "output_type": "stream",
          "name": "stdout",
          "text": [
            "4.7.0\n"
          ]
        }
      ],
      "source": [
        "#Step 1: import sys and opencv libraries\n",
        "import cv2\n",
        "from google.colab.patches import cv2_imshow\n",
        "print(cv2.__version__)"
      ]
    },
    {
      "cell_type": "code",
      "source": [
        "#Step 2: read image file\n",
        "image = cv2.imread('faces.jpg')\n",
        "gray = cv2.cvtColor(image, cv2.COLOR_BGR2GRAY) #convert to gray"
      ],
      "metadata": {
        "id": "D1Efu5MRz9Wu"
      },
      "execution_count": null,
      "outputs": []
    },
    {
      "cell_type": "code",
      "source": [
        "cv2_imshow(gray)"
      ],
      "metadata": {
        "id": "2mc_FJae0cD9"
      },
      "execution_count": null,
      "outputs": []
    },
    {
      "cell_type": "code",
      "source": [
        "#Step 3: Create the haar cascade\n",
        "faceCascade = cv2.CascadeClassifier('haarcascade_frontalface_default.xml')"
      ],
      "metadata": {
        "id": "jtIBjqea0sYz"
      },
      "execution_count": null,
      "outputs": []
    },
    {
      "cell_type": "code",
      "source": [
        "#Step 4: Detect faces in the image\n",
        "faces = faceCascade.detectMultiScale(\n",
        "    gray,\n",
        "    scaleFactor=1.02,\n",
        "    minNeighbors=5,\n",
        "    minSize=(30, 30),\n",
        "    flags = cv2.CASCADE_SCALE_IMAGE\n",
        ")"
      ],
      "metadata": {
        "id": "ARVkCmgH1A1M"
      },
      "execution_count": null,
      "outputs": []
    },
    {
      "cell_type": "code",
      "source": [
        "#Step 4.1 show how many faces found in the image\n",
        "print(\"Found {0} faces!\".format(len(faces)))"
      ],
      "metadata": {
        "colab": {
          "base_uri": "https://localhost:8080/"
        },
        "id": "66wv8AIX1EjT",
        "outputId": "c83c3074-4dcd-4b60-970a-fe1886fd548b"
      },
      "execution_count": null,
      "outputs": [
        {
          "output_type": "stream",
          "name": "stdout",
          "text": [
            "Found 8 faces!\n"
          ]
        }
      ]
    },
    {
      "cell_type": "code",
      "source": [
        "#Step 5: Draw a rectangle around the faces\n",
        "for (x, y, w, h) in faces:\n",
        "    cv2.rectangle(image, (x, y), (x+w, y+h), (0, 255, 0), 2)"
      ],
      "metadata": {
        "id": "M1XeYhAW1I3F"
      },
      "execution_count": null,
      "outputs": []
    },
    {
      "cell_type": "code",
      "source": [
        "#Step 6: Show the result\n",
        "cv2_imshow(image)"
      ],
      "metadata": {
        "id": "wzDmdvZ81NZM"
      },
      "execution_count": null,
      "outputs": []
    },
    {
      "cell_type": "markdown",
      "source": [
        "## all put together"
      ],
      "metadata": {
        "id": "Vq_lZIN91WWE"
      }
    },
    {
      "cell_type": "code",
      "source": [
        "#Step 1: import sys and opencv libraries\n",
        "import cv2\n",
        "from google.colab.patches import cv2_imshow\n",
        "#Step 2: read image file\n",
        "image = cv2.imread('faces.jpg') #read image file into memory\n",
        "gray = cv2.cvtColor(image, cv2.COLOR_BGR2GRAY) #convert to grayscale\n",
        "#Step 3: Create the haar cascade\n",
        "faceCascade = cv2.CascadeClassifier('haarcascade_frontalface_default.xml') #\n",
        "#Step 4: Detect faces in the image\n",
        "faces = faceCascade.detectMultiScale(\n",
        "    gray,\n",
        "    scaleFactor=1.05, \n",
        "    minNeighbors=5,\n",
        "    minSize=(30, 30),\n",
        "    flags = cv2.CASCADE_SCALE_IMAGE\n",
        ")\n",
        "#Step 4.1 show how many faces found in the image\n",
        "print(\"Found {0} faces!\".format(len(faces)))\n",
        "#Step 5: Draw a rectangle around the faces\n",
        "for (x, y, w, h) in faces:\n",
        "    cv2.rectangle(image, (x, y), (x+w, y+h), (0, 255, 0), 2)\n",
        "    #Step 6: Show the result\n",
        "cv2_imshow(image)"
      ],
      "metadata": {
        "id": "EREdTqAI1Yzl"
      },
      "execution_count": null,
      "outputs": []
    },
    {
      "cell_type": "markdown",
      "source": [
        "## Review Questions\n",
        "### 1. Why convert to gray before detection?\n",
        "### 2. What is the use of the parameter scaleFactor?\n",
        "### 3. Name one possible place this can be of practical use."
      ],
      "metadata": {
        "id": "-cPwy4001sp0"
      }
    },
    {
      "cell_type": "markdown",
      "source": [
        "## Coming up next\n",
        "\n",
        "### How to adapt these code to detect live video stream?\n"
      ],
      "metadata": {
        "id": "pc43aZis1wdd"
      }
    }
  ]
}